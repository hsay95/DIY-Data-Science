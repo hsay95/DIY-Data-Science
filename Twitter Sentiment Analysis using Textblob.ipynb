{
 "cells": [
  {
   "cell_type": "code",
   "execution_count": 1,
   "metadata": {},
   "outputs": [],
   "source": [
    "import tweepy #pip install tweepy\n",
    "import textblob\n",
    "import nltk"
   ]
  },
  {
   "cell_type": "code",
   "execution_count": 2,
   "metadata": {},
   "outputs": [],
   "source": [
    "consumer_key = '....'\n",
    "consumer_secret = '....'\n",
    "access_token = '...-...'\n",
    "access_token_secret = '...'\n",
    "    \n",
    "auth = tweepy.OAuthHandler(consumer_key, consumer_secret)\n",
    "auth.set_access_token(access_token, access_token_secret)\n",
    "api = tweepy.API(auth,wait_on_rate_limit=True)"
   ]
  },
  {
   "cell_type": "code",
   "execution_count": 3,
   "metadata": {},
   "outputs": [],
   "source": [
    "ele1 = textblob.TextBlob(\"I am happy, beautiful, joyous, calm\")\n",
    "ele2 = textblob.TextBlob(\"I am sad, horrified, disgusted, afraid\")"
   ]
  },
  {
   "cell_type": "code",
   "execution_count": 4,
   "metadata": {},
   "outputs": [
    {
     "name": "stdout",
     "output_type": "stream",
     "text": [
      "[('I', 'PRP'), ('am', 'VBP'), ('happy', 'JJ'), ('beautiful', 'JJ'), ('joyous', 'JJ'), ('calm', 'JJ')]\n",
      "\n",
      "[('I', 'PRP'), ('am', 'VBP'), ('sad', 'JJ'), ('horrified', 'VBD'), ('disgusted', 'VBN'), ('afraid', 'JJ')]\n"
     ]
    }
   ],
   "source": [
    "print(ele1.tags)\n",
    "print()\n",
    "print(ele2.tags)"
   ]
  },
  {
   "cell_type": "code",
   "execution_count": 5,
   "metadata": {},
   "outputs": [
    {
     "name": "stdout",
     "output_type": "stream",
     "text": [
      "['I', 'am', 'happy', 'beautiful', 'joyous', 'calm']\n",
      "\n",
      "['I', 'am', 'sad', 'horrified', 'disgusted', 'afraid']\n"
     ]
    }
   ],
   "source": [
    "print(ele1.words)\n",
    "print()\n",
    "print(ele2.words)"
   ]
  },
  {
   "cell_type": "code",
   "execution_count": 6,
   "metadata": {},
   "outputs": [
    {
     "name": "stdout",
     "output_type": "stream",
     "text": [
      "Analysis - ele1: 0.65\n",
      "\n",
      "Analysis - ele2: -0.7000000000000001\n"
     ]
    }
   ],
   "source": [
    "print(\"Analysis - ele1: \"+str(ele1.sentiment.polarity))\n",
    "print()\n",
    "print(\"Analysis - ele2: \"+str(ele2.sentiment.polarity))"
   ]
  },
  {
   "cell_type": "markdown",
   "metadata": {},
   "source": [
    "### Analyse Data on Twitter"
   ]
  },
  {
   "cell_type": "code",
   "execution_count": 7,
   "metadata": {},
   "outputs": [],
   "source": [
    "search_term ='cats'\n",
    "public_tweets = api.search(search_term)"
   ]
  },
  {
   "cell_type": "code",
   "execution_count": 8,
   "metadata": {
    "scrolled": true
   },
   "outputs": [
    {
     "name": "stdout",
     "output_type": "stream",
     "text": [
      "@soni_cats @marcmassanella Que és això????????😱😱😱\n",
      "\n",
      "****Analysis: 0.0****\n",
      "-------------------------\n",
      "RT @natsmera: I JUST TOOK THE MOST BEAUTIFUL PICS OF THE CATS I FEED https://t.co/tBwTHuNkmT\n",
      "\n",
      "****Analysis: 0.675****\n",
      "-------------------------\n",
      "Sweet kittens turn bathtub into their playground: We all know that cats absolutely hate water. While most of our fe… https://t.co/rkTLEzdW2u\n",
      "\n",
      "****Analysis: 0.016666666666666646****\n",
      "-------------------------\n",
      "My cats have quite furry butts, whenever one sniffs the other ones, it looked like they’re implanting their noses. 😹\n",
      "\n",
      "****Analysis: -0.125****\n",
      "-------------------------\n",
      "RT @natsmera: I JUST TOOK THE MOST BEAUTIFUL PICS OF THE CATS I FEED https://t.co/tBwTHuNkmT\n",
      "\n",
      "****Analysis: 0.675****\n",
      "-------------------------\n",
      "RT @natsmera: I JUST TOOK THE MOST BEAUTIFUL PICS OF THE CATS I FEED https://t.co/tBwTHuNkmT\n",
      "\n",
      "****Analysis: 0.675****\n",
      "-------------------------\n",
      "Pedicine not as dominant at X - Cats FOGO in now has won 6-10\n",
      "\n",
      "****Analysis: 0.0****\n",
      "-------------------------\n",
      "@uhlexissp I mean, I’m going to throw cheese at my cats tho lol\n",
      "\n",
      "****Analysis: 0.24375000000000002****\n",
      "-------------------------\n",
      "RT @doryheartsbooks: Um... Korea is trending a hashtag for Captain Marvel's Goose in which people are editing their cats into a Captain Mar…\n",
      "\n",
      "****Analysis: 0.0****\n",
      "-------------------------\n",
      "RT @getFANDOM: Fans in Korea are editing their cats into 'Captain Marvel' posters and sharing them with #캡틴마블_우리집구스  🤣 https://t.co/eVFp1YY…\n",
      "\n",
      "****Analysis: 0.0****\n",
      "-------------------------\n",
      "Ever hear a mountain lion meow &amp; purr before? Such an awesome time back at @SquamLakeCenter getting more B-roll for… https://t.co/CJQ14WytJR\n",
      "\n",
      "****Analysis: 0.375****\n",
      "-------------------------\n",
      "@harrymoonchild This made my cats freak out\n",
      "\n",
      "****Analysis: 0.0****\n",
      "-------------------------\n",
      "RT @tashnarr: I don't have too many t-shirts you have too many t-shirts\n",
      "\n",
      "❤🧡💙💛\n",
      "multiplayer games\n",
      "!goals and !TwitchCon in chat\n",
      "cats probably…\n",
      "\n",
      "****Analysis: 0.640625****\n",
      "-------------------------\n",
      "RT @natsmera: I JUST TOOK THE MOST BEAUTIFUL PICS OF THE CATS I FEED https://t.co/tBwTHuNkmT\n",
      "\n",
      "****Analysis: 0.675****\n",
      "-------------------------\n",
      "RT @janlogie: The cats are after the banshees. https://t.co/1hzAeG5uaj\n",
      "\n",
      "****Analysis: 0.0****\n",
      "-------------------------\n"
     ]
    }
   ],
   "source": [
    "num=0\n",
    "for tweet in public_tweets:\n",
    "    print(tweet.text)\n",
    "    analysis = textblob.TextBlob(tweet.text)\n",
    "    print()\n",
    "    print(\"****Analysis: \"+ str(analysis.sentiment.polarity)+\"****\")\n",
    "    print(\"-------------------------\")\n",
    "    sentiment_value = analysis.sentiment.polarity\n",
    "    num = num + sentiment_value\n",
    "avg_sentiment_value = num/len(public_tweets)\n"
   ]
  },
  {
   "cell_type": "code",
   "execution_count": 9,
   "metadata": {},
   "outputs": [
    {
     "name": "stdout",
     "output_type": "stream",
     "text": [
      "Avg Sentiment Value - cats: 0.25673611111111116\n"
     ]
    }
   ],
   "source": [
    "print(\"Avg Sentiment Value - \"+search_term+\": \"+ str(avg_sentiment_value))"
   ]
  },
  {
   "cell_type": "markdown",
   "metadata": {},
   "source": [
    "### Citations"
   ]
  },
  {
   "cell_type": "markdown",
   "metadata": {},
   "source": [
    "1. https://www.youtube.com/watch?v=o_OZdbCzHUA\n",
    "2. https://textblob.readthedocs.io/en/dev/\n",
    "3. https://www.quora.com/How-does-sentiment-analysis-work-generally\n",
    "4. http://cs224d.stanford.edu/syllabus.html"
   ]
  },
  {
   "cell_type": "code",
   "execution_count": null,
   "metadata": {},
   "outputs": [],
   "source": []
  }
 ],
 "metadata": {
  "kernelspec": {
   "display_name": "Python 3",
   "language": "python",
   "name": "python3"
  },
  "language_info": {
   "codemirror_mode": {
    "name": "ipython",
    "version": 3
   },
   "file_extension": ".py",
   "mimetype": "text/x-python",
   "name": "python",
   "nbconvert_exporter": "python",
   "pygments_lexer": "ipython3",
   "version": "3.7.1"
  }
 },
 "nbformat": 4,
 "nbformat_minor": 2
}
